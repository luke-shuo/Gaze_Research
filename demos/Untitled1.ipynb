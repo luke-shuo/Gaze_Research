{
 "cells": [
  {
   "cell_type": "code",
   "execution_count": 1,
   "id": "315bc423",
   "metadata": {},
   "outputs": [],
   "source": [
    "import pandas as pd"
   ]
  },
  {
   "cell_type": "code",
   "execution_count": 3,
   "id": "59608244",
   "metadata": {},
   "outputs": [],
   "source": [
    "df = pd.read_csv('testfile.tsv')"
   ]
  },
  {
   "cell_type": "code",
   "execution_count": 4,
   "id": "272a0292",
   "metadata": {},
   "outputs": [
    {
     "data": {
      "text/html": [
       "<div>\n",
       "<style scoped>\n",
       "    .dataframe tbody tr th:only-of-type {\n",
       "        vertical-align: middle;\n",
       "    }\n",
       "\n",
       "    .dataframe tbody tr th {\n",
       "        vertical-align: top;\n",
       "    }\n",
       "\n",
       "    .dataframe thead th {\n",
       "        text-align: right;\n",
       "    }\n",
       "</style>\n",
       "<table border=\"1\" class=\"dataframe\">\n",
       "  <thead>\n",
       "    <tr style=\"text-align: right;\">\n",
       "      <th></th>\n",
       "      <th>\\tdevice_time_stamp\\tsystem_time_stamp\\tleft_gaze_point_on_display_area_x\\tleft_gaze_point_on_display_area_y\\tleft_gaze_point_in_user_coordinate_system_x\\tleft_gaze_point_in_user_coordinate_system_y\\tleft_gaze_point_in_user_coordinate_system_z\\tleft_gaze_origin_in_trackbox_coordinate_system_x\\tleft_gaze_origin_in_trackbox_coordinate_system_y\\tleft_gaze_origin_in_trackbox_coordinate_system_z\\tleft_gaze_origin_in_user_coordinate_system_x\\tleft_gaze_origin_in_user_coordinate_system_y\\tleft_gaze_origin_in_user_coordinate_system_z\\tleft_pupil_diameter\\tleft_pupil_validity\\tleft_gaze_origin_validity\\tleft_gaze_point_validity\\tright_gaze_point_on_display_area_x\\tright_gaze_point_on_display_area_y\\tright_gaze_point_in_user_coordinate_system_x\\tright_gaze_point_in_user_coordinate_system_y\\tright_gaze_point_in_user_coordinate_system_z\\tright_gaze_origin_in_trackbox_coordinate_system_x\\tright_gaze_origin_in_trackbox_coordinate_system_y\\tright_gaze_origin_in_trackbox_coordinate_system_z\\tright_gaze_origin_in_user_coordinate_system_x\\tright_gaze_origin_in_user_coordinate_system_y\\tright_gaze_origin_in_user_coordinate_system_z\\tright_pupil_diameter\\tright_pupil_validity\\tright_gaze_origin_validity\\tright_gaze_point_validity</th>\n",
       "    </tr>\n",
       "  </thead>\n",
       "  <tbody>\n",
       "    <tr>\n",
       "      <th>0</th>\n",
       "      <td>0\\t91436401\\t8428878665\\t\\t\\t\\t\\t\\t\\t\\t\\t\\t\\t\\...</td>\n",
       "    </tr>\n",
       "    <tr>\n",
       "      <th>1</th>\n",
       "      <td>1\\t91453056\\t8428895320\\t\\t\\t\\t\\t\\t\\t\\t\\t\\t\\t\\...</td>\n",
       "    </tr>\n",
       "    <tr>\n",
       "      <th>2</th>\n",
       "      <td>2\\t91469710\\t8428911974\\t\\t\\t\\t\\t\\t\\t\\t\\t\\t\\t\\...</td>\n",
       "    </tr>\n",
       "    <tr>\n",
       "      <th>3</th>\n",
       "      <td>3\\t91486365\\t8428928630\\t\\t\\t\\t\\t\\t\\t\\t\\t\\t\\t\\...</td>\n",
       "    </tr>\n",
       "    <tr>\n",
       "      <th>4</th>\n",
       "      <td>4\\t91503020\\t8428945285\\t\\t\\t\\t\\t\\t\\t\\t\\t\\t\\t\\...</td>\n",
       "    </tr>\n",
       "    <tr>\n",
       "      <th>...</th>\n",
       "      <td>...</td>\n",
       "    </tr>\n",
       "    <tr>\n",
       "      <th>1629</th>\n",
       "      <td>1629\\t138403341\\t8475846097\\t\\t\\t\\t\\t\\t\\t\\t\\t\\...</td>\n",
       "    </tr>\n",
       "    <tr>\n",
       "      <th>1630</th>\n",
       "      <td>1630\\t138419995\\t8475862752\\t0.498459756374359...</td>\n",
       "    </tr>\n",
       "    <tr>\n",
       "      <th>1631</th>\n",
       "      <td>1631\\t138436650\\t8475879407\\t0.491384178400039...</td>\n",
       "    </tr>\n",
       "    <tr>\n",
       "      <th>1632</th>\n",
       "      <td>1632\\t138453305\\t8475896062\\t0.486693114042282...</td>\n",
       "    </tr>\n",
       "    <tr>\n",
       "      <th>1633</th>\n",
       "      <td>1633\\t138469959\\t8475912717\\t0.492405295372009...</td>\n",
       "    </tr>\n",
       "  </tbody>\n",
       "</table>\n",
       "<p>1634 rows × 1 columns</p>\n",
       "</div>"
      ],
      "text/plain": [
       "     \\tdevice_time_stamp\\tsystem_time_stamp\\tleft_gaze_point_on_display_area_x\\tleft_gaze_point_on_display_area_y\\tleft_gaze_point_in_user_coordinate_system_x\\tleft_gaze_point_in_user_coordinate_system_y\\tleft_gaze_point_in_user_coordinate_system_z\\tleft_gaze_origin_in_trackbox_coordinate_system_x\\tleft_gaze_origin_in_trackbox_coordinate_system_y\\tleft_gaze_origin_in_trackbox_coordinate_system_z\\tleft_gaze_origin_in_user_coordinate_system_x\\tleft_gaze_origin_in_user_coordinate_system_y\\tleft_gaze_origin_in_user_coordinate_system_z\\tleft_pupil_diameter\\tleft_pupil_validity\\tleft_gaze_origin_validity\\tleft_gaze_point_validity\\tright_gaze_point_on_display_area_x\\tright_gaze_point_on_display_area_y\\tright_gaze_point_in_user_coordinate_system_x\\tright_gaze_point_in_user_coordinate_system_y\\tright_gaze_point_in_user_coordinate_system_z\\tright_gaze_origin_in_trackbox_coordinate_system_x\\tright_gaze_origin_in_trackbox_coordinate_system_y\\tright_gaze_origin_in_trackbox_coordinate_system_z\\tright_gaze_origin_in_user_coordinate_system_x\\tright_gaze_origin_in_user_coordinate_system_y\\tright_gaze_origin_in_user_coordinate_system_z\\tright_pupil_diameter\\tright_pupil_validity\\tright_gaze_origin_validity\\tright_gaze_point_validity\n",
       "0     0\\t91436401\\t8428878665\\t\\t\\t\\t\\t\\t\\t\\t\\t\\t\\t\\...                                                                                                                                                                                                                                                                                                                                                                                                                                                                                                                                                                                                                                                                                                                                                                                                                                                                                                                                                                                                                                                                                                                                                                                                                           \n",
       "1     1\\t91453056\\t8428895320\\t\\t\\t\\t\\t\\t\\t\\t\\t\\t\\t\\...                                                                                                                                                                                                                                                                                                                                                                                                                                                                                                                                                                                                                                                                                                                                                                                                                                                                                                                                                                                                                                                                                                                                                                                                                           \n",
       "2     2\\t91469710\\t8428911974\\t\\t\\t\\t\\t\\t\\t\\t\\t\\t\\t\\...                                                                                                                                                                                                                                                                                                                                                                                                                                                                                                                                                                                                                                                                                                                                                                                                                                                                                                                                                                                                                                                                                                                                                                                                                           \n",
       "3     3\\t91486365\\t8428928630\\t\\t\\t\\t\\t\\t\\t\\t\\t\\t\\t\\...                                                                                                                                                                                                                                                                                                                                                                                                                                                                                                                                                                                                                                                                                                                                                                                                                                                                                                                                                                                                                                                                                                                                                                                                                           \n",
       "4     4\\t91503020\\t8428945285\\t\\t\\t\\t\\t\\t\\t\\t\\t\\t\\t\\...                                                                                                                                                                                                                                                                                                                                                                                                                                                                                                                                                                                                                                                                                                                                                                                                                                                                                                                                                                                                                                                                                                                                                                                                                           \n",
       "...                                                 ...                                                                                                                                                                                                                                                                                                                                                                                                                                                                                                                                                                                                                                                                                                                                                                                                                                                                                                                                                                                                                                                                                                                                                                                                                           \n",
       "1629  1629\\t138403341\\t8475846097\\t\\t\\t\\t\\t\\t\\t\\t\\t\\...                                                                                                                                                                                                                                                                                                                                                                                                                                                                                                                                                                                                                                                                                                                                                                                                                                                                                                                                                                                                                                                                                                                                                                                                                           \n",
       "1630  1630\\t138419995\\t8475862752\\t0.498459756374359...                                                                                                                                                                                                                                                                                                                                                                                                                                                                                                                                                                                                                                                                                                                                                                                                                                                                                                                                                                                                                                                                                                                                                                                                                           \n",
       "1631  1631\\t138436650\\t8475879407\\t0.491384178400039...                                                                                                                                                                                                                                                                                                                                                                                                                                                                                                                                                                                                                                                                                                                                                                                                                                                                                                                                                                                                                                                                                                                                                                                                                           \n",
       "1632  1632\\t138453305\\t8475896062\\t0.486693114042282...                                                                                                                                                                                                                                                                                                                                                                                                                                                                                                                                                                                                                                                                                                                                                                                                                                                                                                                                                                                                                                                                                                                                                                                                                           \n",
       "1633  1633\\t138469959\\t8475912717\\t0.492405295372009...                                                                                                                                                                                                                                                                                                                                                                                                                                                                                                                                                                                                                                                                                                                                                                                                                                                                                                                                                                                                                                                                                                                                                                                                                           \n",
       "\n",
       "[1634 rows x 1 columns]"
      ]
     },
     "execution_count": 4,
     "metadata": {},
     "output_type": "execute_result"
    }
   ],
   "source": []
  },
  {
   "cell_type": "code",
   "execution_count": null,
   "id": "9ab8f802",
   "metadata": {},
   "outputs": [],
   "source": []
  }
 ],
 "metadata": {
  "kernelspec": {
   "display_name": "Python 3 (ipykernel)",
   "language": "python",
   "name": "python3"
  },
  "language_info": {
   "codemirror_mode": {
    "name": "ipython",
    "version": 3
   },
   "file_extension": ".py",
   "mimetype": "text/x-python",
   "name": "python",
   "nbconvert_exporter": "python",
   "pygments_lexer": "ipython3",
   "version": "3.9.7"
  }
 },
 "nbformat": 4,
 "nbformat_minor": 5
}
