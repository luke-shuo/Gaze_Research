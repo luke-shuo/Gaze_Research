{
 "cells": [
  {
   "cell_type": "code",
   "execution_count": 4,
   "id": "c00e066f",
   "metadata": {},
   "outputs": [],
   "source": [
    "\n",
    "#from psychopy import visual, event, core, gui, monitors\n",
    "#from psychopy.tools.monitorunittools import cm2deg\n",
    "\n",
    "import numpy as np\n",
    "import matplotlib.pyplot as plt\n",
    "import glob\n",
    "import os\n",
    "import pandas as pd\n",
    "import random\n",
    "import sys\n",
    "\n",
    "import csv\n",
    "import matplotlib\n",
    "import os\n",
    "\n",
    "from util import fixation_detection   # util file to find fixation and saccade detection.\n",
    "from util import saccade_detection\n",
    "from util import parse_fixations_window\n",
    "\n",
    "\n",
    "from plots import draw_display\n",
    "from plots import draw_raw\n",
    "from plots import draw_fixations\n",
    "from plots import draw_scanpath\n",
    "from plots import draw_heatmap\n",
    "#import cv2"
   ]
  },
  {
   "cell_type": "code",
   "execution_count": 24,
   "id": "201a7a65",
   "metadata": {},
   "outputs": [
    {
     "data": {
      "text/plain": [
       "['C:\\\\Program Files\\\\PsychoPy3\\\\demos\\\\images\\\\1.bmp',\n",
       " 'C:\\\\Program Files\\\\PsychoPy3\\\\demos\\\\images\\\\2.bmp',\n",
       " 'C:\\\\Program Files\\\\PsychoPy3\\\\demos\\\\images\\\\3.bmp',\n",
       " 'C:\\\\Program Files\\\\PsychoPy3\\\\demos\\\\images\\\\4.bmp',\n",
       " 'C:\\\\Program Files\\\\PsychoPy3\\\\demos\\\\images\\\\5.bmp',\n",
       " 'C:\\\\Program Files\\\\PsychoPy3\\\\demos\\\\images\\\\6.bmp']"
      ]
     },
     "execution_count": 24,
     "metadata": {},
     "output_type": "execute_result"
    }
   ],
   "source": [
    "files = glob.glob(os.getcwd() + os.sep + 'images' + os.sep + '*.bmp')\n",
    "files"
   ]
  },
  {
   "cell_type": "code",
   "execution_count": 32,
   "id": "99f4f48d",
   "metadata": {},
   "outputs": [
    {
     "data": {
      "text/plain": [
       "'C:\\\\Program Files\\\\PsychoPy3\\\\demos\\\\images\\\\1.bmp'"
      ]
     },
     "execution_count": 32,
     "metadata": {},
     "output_type": "execute_result"
    }
   ],
   "source": [
    "fname = files[0]\n",
    "fname"
   ]
  },
  {
   "cell_type": "code",
   "execution_count": 33,
   "id": "f2ae0889",
   "metadata": {},
   "outputs": [],
   "source": [
    "stimnames = glob.glob(fname)"
   ]
  },
  {
   "cell_type": "code",
   "execution_count": 34,
   "id": "20a46268",
   "metadata": {},
   "outputs": [
    {
     "data": {
      "text/plain": [
       "['C:\\\\Program Files\\\\PsychoPy3\\\\demos\\\\images\\\\1.bmp']"
      ]
     },
     "execution_count": 34,
     "metadata": {},
     "output_type": "execute_result"
    }
   ],
   "source": [
    "stimnames"
   ]
  },
  {
   "cell_type": "code",
   "execution_count": null,
   "id": "7862a121",
   "metadata": {},
   "outputs": [],
   "source": []
  },
  {
   "cell_type": "code",
   "execution_count": null,
   "id": "8dabdbf5",
   "metadata": {},
   "outputs": [],
   "source": []
  }
 ],
 "metadata": {
  "kernelspec": {
   "display_name": "Python 3 (ipykernel)",
   "language": "python",
   "name": "python3"
  },
  "language_info": {
   "codemirror_mode": {
    "name": "ipython",
    "version": 3
   },
   "file_extension": ".py",
   "mimetype": "text/x-python",
   "name": "python",
   "nbconvert_exporter": "python",
   "pygments_lexer": "ipython3",
   "version": "3.9.7"
  }
 },
 "nbformat": 4,
 "nbformat_minor": 5
}
